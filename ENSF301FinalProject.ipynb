{
 "cells": [
  {
   "cell_type": "markdown",
   "metadata": {},
   "source": [
    "# ENSF 310 Final Project\n",
    "### Due: Friday, December 11th at 5pm\n",
    "\n",
    "Working in groups of two or on your own, design and implement a solution to one of the following problems:\n",
    "\n",
    "## 1. COVID-19 Data Dashboard\n",
    "Develop an interactive tool to explore the data compiled by Johns Hopkins University (https://github.com/CSSEGISandData/COVID-19).  Your tool should allow you to explore both local and global data and should always work with the most up-to-date dataset available from JHU.\n",
    "\n",
    "At minimum, you should display the data for the world, for Canada and for Alberta (you may choose what information to display).  You must also allow for some user interactivity, either through clicking and interacting with the figures, or via a command line or popup interface.\n",
    "\n",
    "## 2. Stock Market Dashboard\n",
    "Develop an interactive tool to get financial data (ie, stock prices, etc).  Your tool should allow you to specify indices and individual company symbols and should use the current stock market prices (15-60 minute delayed data is acceptable).  \n",
    "\n",
    "At minimum, you should display the data for the specified indices and symbols and you must allow for some user interactivity to specify time ranges or scales for the data, either through an interactive figure or through a command line or popup interface.\n",
    "\n",
    "## 3. Alberta Electricity Market Dashboard\n",
    "Develop an interactive tool to show the current state of the electricity market in Alberta, using data from the Alberta Electric System Operator (AESO: aeso.ca).  You may choose what information to display, but information about the current supply and demand, along with current price are the minimum.\n",
    "\n",
    "You should allow for some user interactivity, either through an interactive figure or a command line or popup interface.\n",
    "\n",
    "## 4. Alternative Dataset\n",
    "If you wish to use another dataset, please email Dr. Shor for approval before November 27th."
   ]
  },
  {
   "cell_type": "markdown",
   "metadata": {},
   "source": [
    "## Part 1: Design (20 points)\n",
    "Conduct a high level design using the software design process.  You do not have to do a detailed class level design, however, you should consider alternatives and come up with a set of testable requirements.\n"
   ]
  },
  {
   "cell_type": "markdown",
   "metadata": {},
   "source": [
    "## Part 2: Implementation (40 points)\n",
    "Implement your design in a separate Python module.  You may test or interact with your module using a Python notebook.  Your code should be neat and well commented."
   ]
  },
  {
   "cell_type": "markdown",
   "metadata": {},
   "source": [
    "## Part 3: Testing (20 points)\n",
    "Develop tests that verify your solution meets your requirements.  As your code is interactive, your test may be a procedure for a user to follow."
   ]
  },
  {
   "cell_type": "markdown",
   "metadata": {},
   "source": [
    "## Part 4: Presentation (20 points)\n",
    "Create a 5-8 minute presentation that summarizes your design and demonstrates your solution.  You may either:\n",
    "1. record a 5-8 minute video clip, upload it to OneDrive or Dropbox, and share the link as part of your submission (please ensure the link does not expire before Dec 24th).\n",
    "2. schedule a 10 minute presentation slot with Dr. Shor on December 9th, 10th, 11th, 14th or 15th.  Note, your final code is still due at 5pm on December 11th."
   ]
  }
 ],
 "metadata": {
  "kernelspec": {
   "display_name": "Python 3",
   "language": "python",
   "name": "python3"
  },
  "language_info": {
   "codemirror_mode": {
    "name": "ipython",
    "version": 3
   },
   "file_extension": ".py",
   "mimetype": "text/x-python",
   "name": "python",
   "nbconvert_exporter": "python",
   "pygments_lexer": "ipython3",
   "version": "3.8.3"
  }
 },
 "nbformat": 4,
 "nbformat_minor": 2
}
